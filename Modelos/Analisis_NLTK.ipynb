{
 "cells": [
  {
   "cell_type": "code",
   "execution_count": 1,
   "id": "029d1f70",
   "metadata": {},
   "outputs": [
    {
     "data": {
      "text/html": [
       "<div>\n",
       "<style scoped>\n",
       "    .dataframe tbody tr th:only-of-type {\n",
       "        vertical-align: middle;\n",
       "    }\n",
       "\n",
       "    .dataframe tbody tr th {\n",
       "        vertical-align: top;\n",
       "    }\n",
       "\n",
       "    .dataframe thead th {\n",
       "        text-align: right;\n",
       "    }\n",
       "</style>\n",
       "<table border=\"1\" class=\"dataframe\">\n",
       "  <thead>\n",
       "    <tr style=\"text-align: right;\">\n",
       "      <th></th>\n",
       "      <th>Transaction_ID</th>\n",
       "      <th>Clothing_ID</th>\n",
       "      <th>Age</th>\n",
       "      <th>Title</th>\n",
       "      <th>Review_Text</th>\n",
       "      <th>Rating</th>\n",
       "      <th>Recommended_IND</th>\n",
       "      <th>Positive_Feedback_Count</th>\n",
       "      <th>Division_Name</th>\n",
       "      <th>Department_Name</th>\n",
       "      <th>Class_Name</th>\n",
       "    </tr>\n",
       "  </thead>\n",
       "  <tbody>\n",
       "    <tr>\n",
       "      <th>0</th>\n",
       "      <td>100001</td>\n",
       "      <td>767</td>\n",
       "      <td>33</td>\n",
       "      <td>NaN</td>\n",
       "      <td>Absolutely wonderful - silky and sexy and comf...</td>\n",
       "      <td>4</td>\n",
       "      <td>1</td>\n",
       "      <td>0</td>\n",
       "      <td>Initmates</td>\n",
       "      <td>Intimate</td>\n",
       "      <td>Blouses\\n</td>\n",
       "    </tr>\n",
       "    <tr>\n",
       "      <th>1</th>\n",
       "      <td>100002</td>\n",
       "      <td>1080</td>\n",
       "      <td>34</td>\n",
       "      <td>NaN</td>\n",
       "      <td>Love this dress!its sooo pretty.i happened to ...</td>\n",
       "      <td>5</td>\n",
       "      <td>1</td>\n",
       "      <td>4</td>\n",
       "      <td>General</td>\n",
       "      <td>Dresses</td>\n",
       "      <td>Blouses\\n</td>\n",
       "    </tr>\n",
       "    <tr>\n",
       "      <th>2</th>\n",
       "      <td>100003</td>\n",
       "      <td>1077</td>\n",
       "      <td>60</td>\n",
       "      <td>Some major design flaws</td>\n",
       "      <td>I had such high hopes for this dress and reall...</td>\n",
       "      <td>3</td>\n",
       "      <td>0</td>\n",
       "      <td>0</td>\n",
       "      <td>General</td>\n",
       "      <td>Dresses</td>\n",
       "      <td>Blouses\\n</td>\n",
       "    </tr>\n",
       "    <tr>\n",
       "      <th>3</th>\n",
       "      <td>100004</td>\n",
       "      <td>1049</td>\n",
       "      <td>50</td>\n",
       "      <td>My favorite buy!</td>\n",
       "      <td>I love, love, love this jumpsuit. its fun, fli...</td>\n",
       "      <td>5</td>\n",
       "      <td>1</td>\n",
       "      <td>0</td>\n",
       "      <td>General Petite</td>\n",
       "      <td>Bottoms</td>\n",
       "      <td>Blouses\\n</td>\n",
       "    </tr>\n",
       "    <tr>\n",
       "      <th>4</th>\n",
       "      <td>100005</td>\n",
       "      <td>847</td>\n",
       "      <td>47</td>\n",
       "      <td>Flattering shirt</td>\n",
       "      <td>This shirt is very flattering to all due to th...</td>\n",
       "      <td>5</td>\n",
       "      <td>1</td>\n",
       "      <td>6</td>\n",
       "      <td>General</td>\n",
       "      <td>Tops</td>\n",
       "      <td>Blouses\\n</td>\n",
       "    </tr>\n",
       "  </tbody>\n",
       "</table>\n",
       "</div>"
      ],
      "text/plain": [
       "   Transaction_ID  Clothing_ID  Age                    Title  \\\n",
       "0          100001          767   33                      NaN   \n",
       "1          100002         1080   34                      NaN   \n",
       "2          100003         1077   60  Some major design flaws   \n",
       "3          100004         1049   50         My favorite buy!   \n",
       "4          100005          847   47         Flattering shirt   \n",
       "\n",
       "                                         Review_Text  Rating  Recommended_IND  \\\n",
       "0  Absolutely wonderful - silky and sexy and comf...       4                1   \n",
       "1  Love this dress!its sooo pretty.i happened to ...       5                1   \n",
       "2  I had such high hopes for this dress and reall...       3                0   \n",
       "3  I love, love, love this jumpsuit. its fun, fli...       5                1   \n",
       "4  This shirt is very flattering to all due to th...       5                1   \n",
       "\n",
       "   Positive_Feedback_Count   Division_Name Department_Name Class_Name  \n",
       "0                        0       Initmates        Intimate  Blouses\\n  \n",
       "1                        4         General         Dresses  Blouses\\n  \n",
       "2                        0         General         Dresses  Blouses\\n  \n",
       "3                        0  General Petite         Bottoms  Blouses\\n  \n",
       "4                        6         General            Tops  Blouses\\n  "
      ]
     },
     "execution_count": 1,
     "metadata": {},
     "output_type": "execute_result"
    }
   ],
   "source": [
    "import pandas as pd\n",
    "import numpy as np\n",
    "import nltk\n",
    "from sklearn.model_selection import train_test_split\n",
    "from sklearn.feature_extraction.text import CountVectorizer\n",
    "from sklearn.feature_extraction.text import TfidfVectorizer\n",
    "from sklearn.linear_model import LogisticRegression\n",
    "from sklearn.naive_bayes import MultinomialNB\n",
    "from sklearn.svm import SVC\n",
    "from sklearn.svm import LinearSVC\n",
    "from sklearn.metrics import roc_auc_score\n",
    "import matplotlib.pyplot as plt\n",
    "#from nltk.book import *\n",
    "\n",
    "from IPython.core.magic import register_cell_magic\n",
    "\n",
    "@register_cell_magic\n",
    "def skip(line, cell):\n",
    "    return\n",
    "\n",
    "# Read in the data\n",
    "df = pd.read_csv('feedback_limpio.csv')\n",
    "\n",
    "df.head()"
   ]
  },
  {
   "cell_type": "code",
   "execution_count": 2,
   "id": "43ad1f00",
   "metadata": {},
   "outputs": [
    {
     "data": {
      "text/plain": [
       "Transaction_ID              int64\n",
       "Clothing_ID                 int64\n",
       "Age                         int64\n",
       "Title                      object\n",
       "Review_Text                object\n",
       "Rating                      int64\n",
       "Recommended_IND             int64\n",
       "Positive_Feedback_Count     int64\n",
       "Division_Name              object\n",
       "Department_Name            object\n",
       "Class_Name                 object\n",
       "dtype: object"
      ]
     },
     "execution_count": 2,
     "metadata": {},
     "output_type": "execute_result"
    }
   ],
   "source": [
    "df.dtypes"
   ]
  },
  {
   "cell_type": "code",
   "execution_count": 3,
   "id": "3ff4ef37",
   "metadata": {},
   "outputs": [
    {
     "name": "stdout",
     "output_type": "stream",
     "text": [
      "Total  22639\n",
      "Rating\n",
      "5    12609\n",
      "4     4890\n",
      "3     2801\n",
      "2     1524\n",
      "1      815\n",
      "Name: count, dtype: int64\n",
      "Positive  77.29581695304563\n",
      "Neutral  12.372454613719688\n",
      "Negative  10.331728433234684\n"
     ]
    }
   ],
   "source": [
    "df['New_Rate'] = 0\n",
    "df.loc[df[\"Rating\"] == 5, \"New_Rate\"] = 1\n",
    "df.loc[df[\"Rating\"] == 4, \"New_Rate\"] = 1\n",
    "df.loc[df[\"Rating\"] == 3, \"New_Rate\"] = 0\n",
    "df.loc[df[\"Rating\"] == 2, \"New_Rate\"] = -1\n",
    "df.loc[df[\"Rating\"] == 1, \"New_Rate\"] = -1\n",
    "\n",
    "print(\"Total \", len(df))\n",
    "total = df[\"Rating\"].value_counts()\n",
    "print(total)\n",
    "print(\"Positive \", (total[5]+total[4])*100/len(df))\n",
    "print(\"Neutral \", (total[3])*100/len(df))\n",
    "print(\"Negative \", (total[1]+total[2])*100/len(df))"
   ]
  },
  {
   "cell_type": "code",
   "execution_count": 4,
   "id": "332a2d2c",
   "metadata": {},
   "outputs": [
    {
     "data": {
      "text/plain": [
       "New_Rate\n",
       " 1    17499\n",
       " 0     2801\n",
       "-1     2339\n",
       "Name: count, dtype: int64"
      ]
     },
     "execution_count": 4,
     "metadata": {},
     "output_type": "execute_result"
    }
   ],
   "source": [
    "df[\"New_Rate\"].value_counts()\n"
   ]
  },
  {
   "cell_type": "code",
   "execution_count": 5,
   "id": "e9f50a93",
   "metadata": {},
   "outputs": [
    {
     "data": {
      "image/png": "[encoded data removed]",
      "text/plain": [
       "<Figure size 640x480 with 1 Axes>"
      ]
     },
     "metadata": {},
     "output_type": "display_data"
    }
   ],
   "source": [
    "#Bar plot to visualize the total counts of each rating\n",
    "\n",
    "df['Rating'].value_counts().plot.bar(color = 'red')\n",
    "plt.title('Rating distribution count')\n",
    "plt.xlabel('Ratings')\n",
    "plt.ylabel('Count')\n",
    "plt.show()"
   ]
  },
  {
   "cell_type": "code",
   "execution_count": 6,
   "id": "4476618d",
   "metadata": {},
   "outputs": [
    {
     "data": {
      "image/png": "[encoded data removed]",
      "text/plain": [
       "<Figure size 640x480 with 1 Axes>"
      ]
     },
     "metadata": {},
     "output_type": "display_data"
    }
   ],
   "source": [
    "#df[\"Review_Text\"][0]\n",
    "#print(df['Class_Name'].value_counts())\n",
    "#Bar graph to visualize the total counts of each variation\n",
    "\n",
    "df['Class_Name'].value_counts().plot.bar(color = 'orange')\n",
    "plt.title('Variation distribution count')\n",
    "plt.xlabel('Variation')\n",
    "plt.ylabel('Count')\n",
    "plt.show()"
   ]
  },
  {
   "cell_type": "code",
   "execution_count": 7,
   "id": "7685adaa",
   "metadata": {},
   "outputs": [
    {
     "data": {
      "text/plain": [
       "(16979,)"
      ]
     },
     "execution_count": 7,
     "metadata": {},
     "output_type": "execute_result"
    }
   ],
   "source": [
    "X_train, X_test, y_train, y_test = train_test_split(df['Review_Text'], df['New_Rate'], random_state=0)\n",
    "X_train.shape"
   ]
  },
  {
   "cell_type": "markdown",
   "id": "fa434081",
   "metadata": {},
   "source": [
    "# Pruebas de Vectorizadores"
   ]
  },
  {
   "cell_type": "markdown",
   "id": "86224baa",
   "metadata": {},
   "source": [
    "## CountVectorizer plano"
   ]
  },
  {
   "cell_type": "code",
   "execution_count": 8,
   "id": "4f3dde9c",
   "metadata": {},
   "outputs": [
    {
     "name": "stdout",
     "output_type": "stream",
     "text": [
      "Cantidad de propiedades: 12816\n",
      "AUC:  0.6274923567322442 \n",
      "\n",
      "Smallest Coefs:\n",
      "['necessary' 'carry' 'layers' 'suited' 'stands' 'rose' 'comparison'\n",
      " 'grabbed' 'taste' 'understated']\n",
      "\n",
      "Largest Coefs: \n",
      "['surprises' 'budget' 'un' 'billow' 'world' 'trashy' 'nipples' 'stained'\n",
      " 'sticks' 'baseball']\n"
     ]
    }
   ],
   "source": [
    "vect = CountVectorizer().fit(X_train)\n",
    "\n",
    "print(\"Cantidad de propiedades:\",  len(vect.get_feature_names_out()))\n",
    "\n",
    "X_train_vectorized = vect.transform(X_train)\n",
    "\n",
    "model = LogisticRegression(max_iter=1000)\n",
    "model.fit(X_train_vectorized, y_train)\n",
    "\n",
    "predictions = model.predict_proba(vect.transform(X_test))\n",
    "\n",
    "print('AUC: ', roc_auc_score(y_test, predictions,multi_class='ovr'), \"\\n\")\n",
    "\n",
    "feature_names = np.array(vect.get_feature_names_out())\n",
    "\n",
    "sorted_coef_index = model.coef_[0].argsort()\n",
    "\n",
    "print('Smallest Coefs:\\n{}\\n'.format(feature_names[sorted_coef_index[:10]]))\n",
    "print('Largest Coefs: \\n{}'.format(feature_names[sorted_coef_index[:-11:-1]]))\n"
   ]
  },
  {
   "cell_type": "code",
   "execution_count": 9,
   "id": "52ec4ac8",
   "metadata": {},
   "outputs": [
    {
     "name": "stdout",
     "output_type": "stream",
     "text": [
      "False\n",
      "False\n"
     ]
    }
   ],
   "source": [
    "print([\"dress!its\"] in feature_names)\n",
    "print([\"?\"] in feature_names)"
   ]
  },
  {
   "cell_type": "markdown",
   "id": "3c7dd34c",
   "metadata": {},
   "source": [
    "## Tfidf plano"
   ]
  },
  {
   "cell_type": "code",
   "execution_count": 10,
   "id": "938c12bc",
   "metadata": {},
   "outputs": [
    {
     "name": "stdout",
     "output_type": "stream",
     "text": [
      "Cantidad de propiedades: 12816\n",
      "AUC:  0.6763080670416274 \n",
      "\n",
      "Smallest tfidf:\n",
      "['chairs' 'garter' 'pierce' 'toenails' 'spa' 'oohs' 'aaaahs' 'advises'\n",
      " 'drivers' 'surfaces']\n",
      "\n",
      "Largest tfidf: \n",
      "['birds' 'amp' 'structure' 'lovethis' 'embroidery' 'sweet' 'delicate'\n",
      " 'loved' 'romantic' 'warn']\n"
     ]
    }
   ],
   "source": [
    "vect = TfidfVectorizer().fit(X_train)\n",
    "\n",
    "print(\"Cantidad de propiedades:\",  len(vect.get_feature_names_out()))\n",
    "\n",
    "X_train_vectorized = vect.transform(X_train)\n",
    "\n",
    "model = LogisticRegression()\n",
    "model.fit(X_train_vectorized, y_train)\n",
    "\n",
    "predictions = model.predict_proba(vect.transform(X_test))\n",
    "\n",
    "print('AUC: ', roc_auc_score(y_test, predictions,multi_class='ovr'), '\\n')\n",
    "\n",
    "feature_names = np.array(vect.get_feature_names_out())\n",
    "\n",
    "sorted_tfidf_index = X_train_vectorized.max(0).toarray()[0].argsort()\n",
    "\n",
    "print('Smallest tfidf:\\n{}\\n'.format(feature_names[sorted_tfidf_index[:10]]))\n",
    "print('Largest tfidf: \\n{}'.format(feature_names[sorted_tfidf_index[:-11:-1]]))"
   ]
  },
  {
   "cell_type": "markdown",
   "id": "f5c07b65",
   "metadata": {},
   "source": [
    "## CountVectorizer n-gramas y frecuencia"
   ]
  },
  {
   "cell_type": "code",
   "execution_count": 11,
   "id": "0530f368",
   "metadata": {},
   "outputs": [
    {
     "name": "stdout",
     "output_type": "stream",
     "text": [
      "Cantidad de propiedades: 2280213\n",
      "AUC:  0.6669615446507425 \n",
      "\n",
      "Smallest Coefs:\n",
      "['not too' 'amazing' 'tee' 'like it' 'liked' 'the small' 'love this top'\n",
      " 'perfectly' 'seem' 'pretty']\n",
      "\n",
      "Largest Coefs: \n",
      "['so soft and comfortable' 'cheap' 'so soft and' 'is just' 'disappointed'\n",
      " 'runs' 'so soft' 'is too' 'looked' 'great color']\n"
     ]
    }
   ],
   "source": [
    "vect = CountVectorizer(ngram_range=(1,5)).fit(X_train)\n",
    "\n",
    "print(\"Cantidad de propiedades:\",  len(vect.get_feature_names_out()))\n",
    "\n",
    "X_train_vectorized = vect.transform(X_train)\n",
    "\n",
    "model = LogisticRegression(max_iter=500)\n",
    "model.fit(X_train_vectorized, y_train)\n",
    "\n",
    "predictions = model.predict_proba(vect.transform(X_test))\n",
    "\n",
    "print('AUC: ', roc_auc_score(y_test, predictions,multi_class='ovr'), \"\\n\")\n",
    "\n",
    "feature_names = np.array(vect.get_feature_names_out())\n",
    "\n",
    "sorted_coef_index = model.coef_[0].argsort()\n",
    "\n",
    "print('Smallest Coefs:\\n{}\\n'.format(feature_names[sorted_coef_index[:10]]))\n",
    "print('Largest Coefs: \\n{}'.format(feature_names[sorted_coef_index[:-11:-1]]))"
   ]
  },
  {
   "cell_type": "markdown",
   "id": "b8deab96",
   "metadata": {},
   "source": [
    "## Tfidf n-gramas y frecuencia"
   ]
  },
  {
   "cell_type": "code",
   "execution_count": 12,
   "id": "a92652e3",
   "metadata": {},
   "outputs": [
    {
     "name": "stdout",
     "output_type": "stream",
     "text": [
      "Cantidad de propiedades: 2280213\n",
      "AUC:  0.6938735264571236 \n",
      "\n",
      "Smallest tfidf:\n",
      "['amp amp 39 usually' 'big sweater underneath great'\n",
      " 'big sweater underneath great to' 'when winter hits without big'\n",
      " 'when winter hits without' 'when winter hits' 'won amp amp amp 39'\n",
      " 'won amp amp amp' 'won amp amp' 'won amp']\n",
      "\n",
      "Largest tfidf: \n",
      "['love embroidery' 'great fit' 'beautiful colors' 'great style'\n",
      " 'fits perfect' 'great structure' 'comfy cozy' 'love birds'\n",
      " 'fits great comfortable' 'beautiful and delicate']\n"
     ]
    }
   ],
   "source": [
    "vect = TfidfVectorizer(ngram_range=(1,5)).fit(X_train)\n",
    "\n",
    "print(\"Cantidad de propiedades:\",  len(vect.get_feature_names_out()))\n",
    "\n",
    "X_train_vectorized = vect.transform(X_train)\n",
    "\n",
    "model = LogisticRegression()\n",
    "model.fit(X_train_vectorized, y_train)\n",
    "\n",
    "predictions = model.predict_proba(vect.transform(X_test))\n",
    "\n",
    "print('AUC: ', roc_auc_score(y_test, predictions,multi_class='ovr'), '\\n')\n",
    "\n",
    "feature_names = np.array(vect.get_feature_names_out())\n",
    "\n",
    "sorted_tfidf_index = X_train_vectorized.max(0).toarray()[0].argsort()\n",
    "\n",
    "print('Smallest tfidf:\\n{}\\n'.format(feature_names[sorted_tfidf_index[:10]]))\n",
    "print('Largest tfidf: \\n{}'.format(feature_names[sorted_tfidf_index[:-11:-1]]))"
   ]
  },
  {
   "cell_type": "code",
   "execution_count": 13,
   "id": "3c562ee9",
   "metadata": {},
   "outputs": [
    {
     "name": "stdout",
     "output_type": "stream",
     "text": [
      "[-1  0  1] [  11   24 5625]\n",
      "[1 1 1 ... 1 1 1]\n"
     ]
    }
   ],
   "source": [
    "a=model.predict(vect.transform(X_test))\n",
    "u, c = np.unique(a, return_counts=True)\n",
    "print(u,c)\n",
    "print(a)"
   ]
  },
  {
   "cell_type": "code",
   "execution_count": 14,
   "id": "fb89be4e",
   "metadata": {},
   "outputs": [
    {
     "name": "stdout",
     "output_type": "stream",
     "text": [
      "False\n",
      "False\n",
      "True\n"
     ]
    }
   ],
   "source": [
    "print([\"dress!its\"] in feature_names)\n",
    "print([\"?\"] in feature_names)\n",
    "print([\"?\"] in np.array([1,2,\"?\"]))"
   ]
  },
  {
   "cell_type": "markdown",
   "id": "11349260",
   "metadata": {},
   "source": [
    "## Tfidf analyzer"
   ]
  },
  {
   "cell_type": "code",
   "execution_count": 15,
   "id": "2df5fd97",
   "metadata": {},
   "outputs": [
    {
     "name": "stdout",
     "output_type": "stream",
     "text": [
      "Cantidad de propiedades: 86974\n",
      "AUC:  0.6854097446939112 \n",
      "\n",
      "Smallest tfidf:\n",
      "['_ con' '___ c' '_ co' '_ c' '__ c' '__ co' 'ns: -' 'os: -' '_ pr'\n",
      " '___ p']\n",
      "\n",
      "Largest tfidf: \n",
      "['!!!!!' '!!!!' '__' '..' '----' '-----' '___' '---' '.....' '____']\n"
     ]
    }
   ],
   "source": [
    "vect = TfidfVectorizer(min_df=5,ngram_range=(2,5), analyzer=\"char\").fit(X_train)\n",
    "\n",
    "print(\"Cantidad de propiedades:\",  len(vect.get_feature_names_out()))\n",
    "\n",
    "X_train_vectorized = vect.transform(X_train)\n",
    "\n",
    "model = LogisticRegression()\n",
    "model.fit(X_train_vectorized, y_train)\n",
    "\n",
    "predictions = model.predict_proba(vect.transform(X_test))\n",
    "\n",
    "print('AUC: ', roc_auc_score(y_test, predictions,multi_class='ovr'), '\\n')\n",
    "\n",
    "feature_names = np.array(vect.get_feature_names_out())\n",
    "\n",
    "sorted_tfidf_index = X_train_vectorized.max(0).toarray()[0].argsort()\n",
    "\n",
    "print('Smallest tfidf:\\n{}\\n'.format(feature_names[sorted_tfidf_index[:10]]))\n",
    "print('Largest tfidf: \\n{}'.format(feature_names[sorted_tfidf_index[:-11:-1]]))"
   ]
  },
  {
   "cell_type": "code",
   "execution_count": 16,
   "id": "8e67560b",
   "metadata": {},
   "outputs": [
    {
     "name": "stdout",
     "output_type": "stream",
     "text": [
      "False\n",
      "False\n",
      "True\n"
     ]
    }
   ],
   "source": [
    "print([\"dress!its\"] in feature_names)\n",
    "print([\"!\"] in feature_names)\n",
    "print([\"?\"] in np.array([1,2,\"?\"]))"
   ]
  },
  {
   "cell_type": "markdown",
   "id": "d154ef1b",
   "metadata": {},
   "source": [
    "## Prueba texto"
   ]
  },
  {
   "cell_type": "code",
   "execution_count": 17,
   "id": "651fdced",
   "metadata": {},
   "outputs": [
    {
     "name": "stdout",
     "output_type": "stream",
     "text": [
      "[1 1]\n"
     ]
    }
   ],
   "source": [
    "# These reviews are now correctly identified\n",
    "print(model.predict(vect.transform(['not an issue, dress is perfect',\n",
    "                                    'an issue, dress not perfect'])))"
   ]
  },
  {
   "cell_type": "markdown",
   "id": "db2f2f24",
   "metadata": {},
   "source": [
    "# Prueba de Modelos"
   ]
  },
  {
   "cell_type": "code",
   "execution_count": 18,
   "id": "b1f19888",
   "metadata": {},
   "outputs": [
    {
     "name": "stdout",
     "output_type": "stream",
     "text": [
      "Cantidad de propiedades: 2280213\n"
     ]
    }
   ],
   "source": [
    "vect = TfidfVectorizer(ngram_range=(1,5)).fit(X_train)\n",
    "\n",
    "print(\"Cantidad de propiedades:\",  len(vect.get_feature_names_out()))\n",
    "\n",
    "X_train_vectorized = vect.transform(X_train)"
   ]
  },
  {
   "cell_type": "markdown",
   "id": "c08d6c4b",
   "metadata": {},
   "source": [
    "## LogisticRegression"
   ]
  },
  {
   "cell_type": "code",
   "execution_count": 19,
   "id": "9426cdb6",
   "metadata": {},
   "outputs": [
    {
     "name": "stdout",
     "output_type": "stream",
     "text": [
      "AUC:  0.6871645538942128\n"
     ]
    }
   ],
   "source": [
    "model = LogisticRegression(C=10,class_weight=\"balanced\")\n",
    "model.fit(X_train_vectorized, y_train)\n",
    "\n",
    "predictions = model.predict_proba(vect.transform(X_test))\n",
    "\n",
    "print('AUC: ', roc_auc_score(y_test, predictions, multi_class='ovr'))"
   ]
  },
  {
   "cell_type": "code",
   "execution_count": 20,
   "id": "007e1f0f",
   "metadata": {},
   "outputs": [],
   "source": [
    "%%skip\n",
    "from sklearn.linear_model import LogisticRegressionCV\n",
    "model = LogisticRegressionCV(random_state=0)\n",
    "model.fit(X_train_vectorized, y_train)\n",
    "\n",
    "predictions = model.predict_proba(vect.transform(X_test))\n",
    "\n",
    "print('AUC: ', roc_auc_score(y_test, predictions, multi_class='ovr'))"
   ]
  },
  {
   "cell_type": "markdown",
   "id": "b5ac3977",
   "metadata": {},
   "source": [
    "## MultinomialNB"
   ]
  },
  {
   "cell_type": "code",
   "execution_count": 21,
   "id": "60768046",
   "metadata": {},
   "outputs": [
    {
     "name": "stdout",
     "output_type": "stream",
     "text": [
      "AUC:  0.5633421114580359\n"
     ]
    }
   ],
   "source": [
    "model = MultinomialNB()\n",
    "model.fit(X_train_vectorized, y_train)\n",
    "\n",
    "predictions = model.predict_proba(vect.transform(X_test))\n",
    "\n",
    "print('AUC: ', roc_auc_score(y_test, predictions, multi_class='ovr'))"
   ]
  },
  {
   "cell_type": "code",
   "execution_count": 22,
   "id": "0790d64c",
   "metadata": {},
   "outputs": [
    {
     "name": "stdout",
     "output_type": "stream",
     "text": [
      "AUC:  0.6607219538219489\n"
     ]
    }
   ],
   "source": [
    "model = MultinomialNB(alpha=0.01)\n",
    "model.fit(X_train_vectorized, y_train)\n",
    "\n",
    "predictions = model.predict_proba(vect.transform(X_test))\n",
    "\n",
    "print('AUC: ', roc_auc_score(y_test, predictions, multi_class='ovr'))"
   ]
  },
  {
   "cell_type": "markdown",
   "id": "81264b69",
   "metadata": {},
   "source": [
    "## SVC"
   ]
  },
  {
   "cell_type": "code",
   "execution_count": 23,
   "id": "d9a63661",
   "metadata": {
    "slideshow": {
     "slide_type": "skip"
    }
   },
   "outputs": [],
   "source": [
    "%%skip\n",
    "\n",
    "model = SVC(kernel=\"linear\", probability=True)\n",
    "model.fit(X_train_vectorized, y_train)\n",
    "\n",
    "predictions = model.predict_proba(vect.transform(X_test))\n",
    "print(predictions)\n",
    "print('AUC: ', roc_auc_score(y_test, predictions, multi_class='ovr'))"
   ]
  },
  {
   "cell_type": "markdown",
   "id": "b8997b99",
   "metadata": {},
   "source": [
    "# Agregando features"
   ]
  },
  {
   "cell_type": "code",
   "execution_count": 24,
   "id": "60080034",
   "metadata": {},
   "outputs": [],
   "source": [
    "%%skip\n",
    "vect = TfidfVectorizer(min_df=5,ngram_range=(2,5), analyzer=\"char\").fit(X_train)\n",
    "\n",
    "print(\"Cantidad de propiedades:\",  len(vect.get_feature_names_out()))\n",
    "\n",
    "X_train_vectorized = vect.transform(X_train)\n",
    "\n",
    "model = LogisticRegression()\n",
    "model.fit(X_train_vectorized, y_train)\n",
    "\n",
    "predictions = model.predict_proba(vect.transform(X_test))\n",
    "\n",
    "print('AUC: ', roc_auc_score(y_test, predictions,multi_class='ovr'), '\\n')\n",
    "\n",
    "feature_names = np.array(vect.get_feature_names_out())\n",
    "\n",
    "sorted_tfidf_index = X_train_vectorized.max(0).toarray()[0].argsort()\n",
    "\n",
    "print('Smallest tfidf:\\n{}\\n'.format(feature_names[sorted_tfidf_index[:10]]))\n",
    "print('Largest tfidf: \\n{}'.format(feature_names[sorted_tfidf_index[:-11:-1]]))"
   ]
  },
  {
   "cell_type": "code",
   "execution_count": 25,
   "id": "e3d918a6",
   "metadata": {},
   "outputs": [
    {
     "data": {
      "text/html": [
       "<div>\n",
       "<style scoped>\n",
       "    .dataframe tbody tr th:only-of-type {\n",
       "        vertical-align: middle;\n",
       "    }\n",
       "\n",
       "    .dataframe tbody tr th {\n",
       "        vertical-align: top;\n",
       "    }\n",
       "\n",
       "    .dataframe thead th {\n",
       "        text-align: right;\n",
       "    }\n",
       "</style>\n",
       "<table border=\"1\" class=\"dataframe\">\n",
       "  <thead>\n",
       "    <tr style=\"text-align: right;\">\n",
       "      <th></th>\n",
       "      <th>Transaction_ID</th>\n",
       "      <th>Clothing_ID</th>\n",
       "      <th>Age</th>\n",
       "      <th>Title</th>\n",
       "      <th>Review_Text</th>\n",
       "      <th>Rating</th>\n",
       "      <th>Recommended_IND</th>\n",
       "      <th>Positive_Feedback_Count</th>\n",
       "      <th>Division_Name</th>\n",
       "      <th>Department_Name</th>\n",
       "      <th>Class_Name</th>\n",
       "      <th>New_Rate</th>\n",
       "    </tr>\n",
       "  </thead>\n",
       "  <tbody>\n",
       "    <tr>\n",
       "      <th>0</th>\n",
       "      <td>100001</td>\n",
       "      <td>767</td>\n",
       "      <td>33</td>\n",
       "      <td>NaN</td>\n",
       "      <td>Absolutely wonderful - silky and sexy and comf...</td>\n",
       "      <td>4</td>\n",
       "      <td>1</td>\n",
       "      <td>0</td>\n",
       "      <td>Initmates</td>\n",
       "      <td>Intimate</td>\n",
       "      <td>Blouses\\n</td>\n",
       "      <td>1</td>\n",
       "    </tr>\n",
       "    <tr>\n",
       "      <th>1</th>\n",
       "      <td>100002</td>\n",
       "      <td>1080</td>\n",
       "      <td>34</td>\n",
       "      <td>NaN</td>\n",
       "      <td>Love this dress!its sooo pretty.i happened to ...</td>\n",
       "      <td>5</td>\n",
       "      <td>1</td>\n",
       "      <td>4</td>\n",
       "      <td>General</td>\n",
       "      <td>Dresses</td>\n",
       "      <td>Blouses\\n</td>\n",
       "      <td>1</td>\n",
       "    </tr>\n",
       "    <tr>\n",
       "      <th>2</th>\n",
       "      <td>100003</td>\n",
       "      <td>1077</td>\n",
       "      <td>60</td>\n",
       "      <td>Some major design flaws</td>\n",
       "      <td>I had such high hopes for this dress and reall...</td>\n",
       "      <td>3</td>\n",
       "      <td>0</td>\n",
       "      <td>0</td>\n",
       "      <td>General</td>\n",
       "      <td>Dresses</td>\n",
       "      <td>Blouses\\n</td>\n",
       "      <td>0</td>\n",
       "    </tr>\n",
       "    <tr>\n",
       "      <th>3</th>\n",
       "      <td>100004</td>\n",
       "      <td>1049</td>\n",
       "      <td>50</td>\n",
       "      <td>My favorite buy!</td>\n",
       "      <td>I love, love, love this jumpsuit. its fun, fli...</td>\n",
       "      <td>5</td>\n",
       "      <td>1</td>\n",
       "      <td>0</td>\n",
       "      <td>General Petite</td>\n",
       "      <td>Bottoms</td>\n",
       "      <td>Blouses\\n</td>\n",
       "      <td>1</td>\n",
       "    </tr>\n",
       "    <tr>\n",
       "      <th>4</th>\n",
       "      <td>100005</td>\n",
       "      <td>847</td>\n",
       "      <td>47</td>\n",
       "      <td>Flattering shirt</td>\n",
       "      <td>This shirt is very flattering to all due to th...</td>\n",
       "      <td>5</td>\n",
       "      <td>1</td>\n",
       "      <td>6</td>\n",
       "      <td>General</td>\n",
       "      <td>Tops</td>\n",
       "      <td>Blouses\\n</td>\n",
       "      <td>1</td>\n",
       "    </tr>\n",
       "    <tr>\n",
       "      <th>5</th>\n",
       "      <td>100006</td>\n",
       "      <td>1080</td>\n",
       "      <td>49</td>\n",
       "      <td>Not for the very petite</td>\n",
       "      <td>I love tracy reese dresses, but this one is no...</td>\n",
       "      <td>2</td>\n",
       "      <td>0</td>\n",
       "      <td>4</td>\n",
       "      <td>General</td>\n",
       "      <td>Dresses</td>\n",
       "      <td>Blouses\\n</td>\n",
       "      <td>-1</td>\n",
       "    </tr>\n",
       "    <tr>\n",
       "      <th>6</th>\n",
       "      <td>100007</td>\n",
       "      <td>858</td>\n",
       "      <td>39</td>\n",
       "      <td>Cagrcoal shimmer fun</td>\n",
       "      <td>I aded this in my basket at hte last mintue to...</td>\n",
       "      <td>5</td>\n",
       "      <td>1</td>\n",
       "      <td>1</td>\n",
       "      <td>General Petite</td>\n",
       "      <td>Tops</td>\n",
       "      <td>Blouses\\n</td>\n",
       "      <td>1</td>\n",
       "    </tr>\n",
       "    <tr>\n",
       "      <th>7</th>\n",
       "      <td>100008</td>\n",
       "      <td>858</td>\n",
       "      <td>39</td>\n",
       "      <td>Shimmer, surprisingly goes with lots</td>\n",
       "      <td>I ordered this in carbon for store pick up, an...</td>\n",
       "      <td>4</td>\n",
       "      <td>1</td>\n",
       "      <td>4</td>\n",
       "      <td>General Petite</td>\n",
       "      <td>Tops</td>\n",
       "      <td>Blouses\\n</td>\n",
       "      <td>1</td>\n",
       "    </tr>\n",
       "    <tr>\n",
       "      <th>8</th>\n",
       "      <td>100009</td>\n",
       "      <td>1077</td>\n",
       "      <td>24</td>\n",
       "      <td>Flattering</td>\n",
       "      <td>I love this dress. i usually get an xs but it ...</td>\n",
       "      <td>5</td>\n",
       "      <td>1</td>\n",
       "      <td>0</td>\n",
       "      <td>General</td>\n",
       "      <td>Dresses</td>\n",
       "      <td>Blouses\\n</td>\n",
       "      <td>1</td>\n",
       "    </tr>\n",
       "    <tr>\n",
       "      <th>9</th>\n",
       "      <td>100010</td>\n",
       "      <td>1077</td>\n",
       "      <td>34</td>\n",
       "      <td>Such a fun dress!</td>\n",
       "      <td>Im 55 and 125 lbs. i ordered the s petite to m...</td>\n",
       "      <td>5</td>\n",
       "      <td>1</td>\n",
       "      <td>0</td>\n",
       "      <td>General</td>\n",
       "      <td>Dresses</td>\n",
       "      <td>Blouses\\n</td>\n",
       "      <td>1</td>\n",
       "    </tr>\n",
       "  </tbody>\n",
       "</table>\n",
       "</div>"
      ],
      "text/plain": [
       "   Transaction_ID  Clothing_ID  Age                                 Title  \\\n",
       "0          100001          767   33                                   NaN   \n",
       "1          100002         1080   34                                   NaN   \n",
       "2          100003         1077   60               Some major design flaws   \n",
       "3          100004         1049   50                      My favorite buy!   \n",
       "4          100005          847   47                      Flattering shirt   \n",
       "5          100006         1080   49               Not for the very petite   \n",
       "6          100007          858   39                  Cagrcoal shimmer fun   \n",
       "7          100008          858   39  Shimmer, surprisingly goes with lots   \n",
       "8          100009         1077   24                            Flattering   \n",
       "9          100010         1077   34                     Such a fun dress!   \n",
       "\n",
       "                                         Review_Text  Rating  Recommended_IND  \\\n",
       "0  Absolutely wonderful - silky and sexy and comf...       4                1   \n",
       "1  Love this dress!its sooo pretty.i happened to ...       5                1   \n",
       "2  I had such high hopes for this dress and reall...       3                0   \n",
       "3  I love, love, love this jumpsuit. its fun, fli...       5                1   \n",
       "4  This shirt is very flattering to all due to th...       5                1   \n",
       "5  I love tracy reese dresses, but this one is no...       2                0   \n",
       "6  I aded this in my basket at hte last mintue to...       5                1   \n",
       "7  I ordered this in carbon for store pick up, an...       4                1   \n",
       "8  I love this dress. i usually get an xs but it ...       5                1   \n",
       "9  Im 55 and 125 lbs. i ordered the s petite to m...       5                1   \n",
       "\n",
       "   Positive_Feedback_Count   Division_Name Department_Name Class_Name  \\\n",
       "0                        0       Initmates        Intimate  Blouses\\n   \n",
       "1                        4         General         Dresses  Blouses\\n   \n",
       "2                        0         General         Dresses  Blouses\\n   \n",
       "3                        0  General Petite         Bottoms  Blouses\\n   \n",
       "4                        6         General            Tops  Blouses\\n   \n",
       "5                        4         General         Dresses  Blouses\\n   \n",
       "6                        1  General Petite            Tops  Blouses\\n   \n",
       "7                        4  General Petite            Tops  Blouses\\n   \n",
       "8                        0         General         Dresses  Blouses\\n   \n",
       "9                        0         General         Dresses  Blouses\\n   \n",
       "\n",
       "   New_Rate  \n",
       "0         1  \n",
       "1         1  \n",
       "2         0  \n",
       "3         1  \n",
       "4         1  \n",
       "5        -1  \n",
       "6         1  \n",
       "7         1  \n",
       "8         1  \n",
       "9         1  "
      ]
     },
     "execution_count": 25,
     "metadata": {},
     "output_type": "execute_result"
    }
   ],
   "source": [
    "df.head(10)"
   ]
  },
  {
   "cell_type": "code",
   "execution_count": 26,
   "id": "82728880",
   "metadata": {},
   "outputs": [
    {
     "name": "stdout",
     "output_type": "stream",
     "text": [
      "(304.4140808046174, 314.6536951088897, 312.7682770414707)\n",
      "(1.7324418538202182, 1.7329525169582292, 1.5545104745617786)\n",
      "(67.0382307560432, 69.35344519814352, 68.69003847798204)\n"
     ]
    }
   ],
   "source": [
    "import statistics\n",
    "\n",
    "pos = df[df[\"New_Rate\"]==1]\n",
    "neu = df[df[\"New_Rate\"]==0]\n",
    "neg = df[df[\"New_Rate\"]==-1]\n",
    "posl = []\n",
    "neul = []\n",
    "negl = []\n",
    "\n",
    "for i in pos.index:\n",
    "    posl.append(len(pos[\"Review_Text\"][i]))\n",
    "for i in neu.index:\n",
    "    neul.append(len(neu[\"Review_Text\"][i]))\n",
    "for i in neg.index:\n",
    "    negl.append(len(neg[\"Review_Text\"][i]))\n",
    "print((statistics.fmean(posl), statistics.fmean(neul), statistics.fmean(negl)))\n",
    "\n",
    "num_pos = statistics.fmean(pos[\"Review_Text\"].str.count(r'\\d'))\n",
    "num_neu = statistics.fmean(neu[\"Review_Text\"].str.count(r'\\d'))\n",
    "num_neg = statistics.fmean(neg[\"Review_Text\"].str.count(r'\\d'))\n",
    "print((num_pos, num_neu,num_neg))\n",
    "\n",
    "num_pos = statistics.fmean(pos[\"Review_Text\"].str.count(r'\\W'))\n",
    "num_neu = statistics.fmean(neu[\"Review_Text\"].str.count(r'\\W'))\n",
    "num_neg = statistics.fmean(neg[\"Review_Text\"].str.count(r'\\W'))\n",
    "print((num_pos, num_neu,num_neg))"
   ]
  }
 ],
 "metadata": {
  "kernelspec": {
   "display_name": "base",
   "language": "python",
   "name": "python3"
  },
  "language_info": {
   "codemirror_mode": {
    "name": "ipython",
    "version": 3
   },
   "file_extension": ".py",
   "mimetype": "text/x-python",
   "name": "python",
   "nbconvert_exporter": "python",
   "pygments_lexer": "ipython3",
   "version": "3.12.7"
  }
 },
 "nbformat": 4,
 "nbformat_minor": 5
}
